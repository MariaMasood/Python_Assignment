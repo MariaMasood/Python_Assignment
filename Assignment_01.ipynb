{
  "nbformat": 4,
  "nbformat_minor": 0,
  "metadata": {
    "colab": {
      "name": "Assignment_01.ipynb",
      "provenance": [],
      "collapsed_sections": []
    },
    "kernelspec": {
      "name": "python3",
      "display_name": "Python 3"
    }
  },
  "cells": [
    {
      "cell_type": "code",
      "metadata": {
        "id": "GwpXUpgELpbp",
        "colab_type": "code",
        "colab": {
          "base_uri": "https://localhost:8080/",
          "height": 119
        },
        "outputId": "54fa963e-96c5-4974-ac4d-d37fbc97157a"
      },
      "source": [
        "print(\"Twinkle, twinkle, little star,\\n\\t How I wonder what you are!\\n\\t\\tUp above the world so high,\\n\\t\\tLike a diamond in he sky.\\nTwinkle, twinkle, little star,\\n\\tHow I wonder what you are\")"
      ],
      "execution_count": 1,
      "outputs": [
        {
          "output_type": "stream",
          "text": [
            "Twinkle, twinkle, little star,\n",
            "\t How I wonder what you are!\n",
            "\t\tUp above the world so high,\n",
            "\t\tLike a diamond in he sky.\n",
            "Twinkle, twinkle, little star,\n",
            "\tHow I wonder what you are\n"
          ],
          "name": "stdout"
        }
      ]
    },
    {
      "cell_type": "code",
      "metadata": {
        "id": "4iVZtILKMcjy",
        "colab_type": "code",
        "colab": {
          "base_uri": "https://localhost:8080/",
          "height": 51
        },
        "outputId": "3b98f02d-ff8f-478e-a651-a0f3fb6c6756"
      },
      "source": [
        "import sys\n",
        "print (sys.version)"
      ],
      "execution_count": 2,
      "outputs": [
        {
          "output_type": "stream",
          "text": [
            "3.6.8 (default, Oct  7 2019, 12:59:55) \n",
            "[GCC 8.3.0]\n"
          ],
          "name": "stdout"
        }
      ]
    },
    {
      "cell_type": "code",
      "metadata": {
        "id": "DCca9Y81Mjdt",
        "colab_type": "code",
        "colab": {
          "base_uri": "https://localhost:8080/",
          "height": 34
        },
        "outputId": "14573b3c-43a2-4a8d-f06e-7728da2b1bc7"
      },
      "source": [
        "import datetime\n",
        "now = datetime.datetime.now()\n",
        "\n",
        "print (\"Current date and time : \"+now.strftime(\"%d-%m-%Y %H:%M:%S\"))"
      ],
      "execution_count": 4,
      "outputs": [
        {
          "output_type": "stream",
          "text": [
            "Current date and time : 28-11-2019 08:52:13\n"
          ],
          "name": "stdout"
        }
      ]
    },
    {
      "cell_type": "code",
      "metadata": {
        "id": "H9l67OUpMtcI",
        "colab_type": "code",
        "colab": {
          "base_uri": "https://localhost:8080/",
          "height": 51
        },
        "outputId": "13ff462a-5e84-46af-abf6-4d5a1e54f051"
      },
      "source": [
        "radius=int(input(\"Enter the radius of circle\"))\n",
        "\n",
        "pi=3.142\n",
        "\n",
        "area=radius*radius*pi\n",
        "print(area)"
      ],
      "execution_count": 5,
      "outputs": [
        {
          "output_type": "stream",
          "text": [
            "Enter the radius of circle4\n",
            "50.272\n"
          ],
          "name": "stdout"
        }
      ]
    },
    {
      "cell_type": "code",
      "metadata": {
        "id": "epzRzgepMzm-",
        "colab_type": "code",
        "colab": {
          "base_uri": "https://localhost:8080/",
          "height": 68
        },
        "outputId": "8943ae03-400d-4094-f57b-d321872beff6"
      },
      "source": [
        "user=input(\"Enter your first name\")\n",
        "\n",
        "last=input(\"Enter your last name\")\n",
        "\n",
        "print(user[::-1] +\" \" + last[::-1])"
      ],
      "execution_count": 6,
      "outputs": [
        {
          "output_type": "stream",
          "text": [
            "Enter your first nameMaria\n",
            "Enter your last nameMasood\n",
            "airaM doosaM\n"
          ],
          "name": "stdout"
        }
      ]
    },
    {
      "cell_type": "code",
      "metadata": {
        "id": "gCmsgyFJM-1L",
        "colab_type": "code",
        "colab": {
          "base_uri": "https://localhost:8080/",
          "height": 68
        },
        "outputId": "5f058668-f3b7-4890-bdc4-493028fda796"
      },
      "source": [
        "num1=int(input(\"Enter the 1 num\"))\n",
        "\n",
        "num2=int(input(\"Enter the 2 num\"))\n",
        "\n",
        "sum=num1+num2\n",
        "print(\"the sum is\",sum)"
      ],
      "execution_count": 7,
      "outputs": [
        {
          "output_type": "stream",
          "text": [
            "Enter the 1 num12\n",
            "Enter the 2 num76\n",
            "the sum is 88\n"
          ],
          "name": "stdout"
        }
      ]
    }
  ]
}