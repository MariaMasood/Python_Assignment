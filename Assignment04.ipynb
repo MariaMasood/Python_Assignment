{
  "nbformat": 4,
  "nbformat_minor": 0,
  "metadata": {
    "colab": {
      "name": "Assignment04.ipynb",
      "provenance": []
    },
    "kernelspec": {
      "name": "python3",
      "display_name": "Python 3"
    }
  },
  "cells": [
    {
      "cell_type": "code",
      "metadata": {
        "id": "fj1kc7sIN_VO",
        "colab_type": "code",
        "colab": {
          "base_uri": "https://localhost:8080/",
          "height": 221
        },
        "outputId": "f6e2a5a9-2dcc-4317-e929-e2b0302eabd4"
      },
      "source": [
        "dict1 = { 'first_name' : 'Maria', 'last_name' : 'Masood', 'age' : 22, 'city' : 'karachi' }\n",
        "for k,v in dict1.items():\n",
        "    print(f\"{k} : {v} \\n\")\n",
        "print(\"Added New Key Value pair\")\n",
        "dict1['qualification'] = 'B.S'\n",
        "print(dict1)\n",
        "print(\"updated Dictionary\")\n",
        "dict1['qualification'] = 'M.S'\n",
        "print(dict1)"
      ],
      "execution_count": 2,
      "outputs": [
        {
          "output_type": "stream",
          "text": [
            "first_name : Maria \n",
            "\n",
            "last_name : Masood \n",
            "\n",
            "age : 22 \n",
            "\n",
            "city : karachi \n",
            "\n",
            "Added New Key Value pair\n",
            "{'first_name': 'Maria', 'last_name': 'Masood', 'age': 22, 'city': 'karachi', 'qualification': 'B.S'}\n",
            "updated Dictionary\n",
            "{'first_name': 'Maria', 'last_name': 'Masood', 'age': 22, 'city': 'karachi', 'qualification': 'M.S'}\n"
          ],
          "name": "stdout"
        }
      ]
    },
    {
      "cell_type": "code",
      "metadata": {
        "id": "xfaz4nkhOF9R",
        "colab_type": "code",
        "colab": {
          "base_uri": "https://localhost:8080/",
          "height": 221
        },
        "outputId": "33888b4c-5c85-4d30-dc7c-c8aec42e8b03"
      },
      "source": [
        "cities = { 'Karachi' : '' , 'Lahore' : '', 'Quetta' : '' }\n",
        "\n",
        "karachi = { 'country' : 'pakistan', 'population' : '14.91 million', 'fact' : 'biryani'}\n",
        "peshawar = { 'country' : 'pakistan', 'population' : '13.97 million', 'fact' : 'kabab'}\n",
        "quetta = { 'country' : 'pakistan', 'population' : '1.01 million', 'fact' : 'dry fruit'}\n",
        "\n",
        "for k in cities.keys():\n",
        "    if k == 'karachi':\n",
        "        print(\"Karachi Information\")\n",
        "        for i,j in karachi.items():\n",
        "            print(f\"{i} : {j}\")\n",
        "    elif k == 'peshawar':\n",
        "        print(\"Peshawar Information\")\n",
        "        for i,j in peshawar.items():\n",
        "            print(f\"{i} : {j}\")\n",
        "    else:\n",
        "        print(\"Quetta Information\")\n",
        "        for i,j in quetta.items():\n",
        "            print(f\"{i} : {j}\")"
      ],
      "execution_count": 3,
      "outputs": [
        {
          "output_type": "stream",
          "text": [
            "Quetta Information\n",
            "country : pakistan\n",
            "population : 1.01 million\n",
            "fact : dry fruit\n",
            "Quetta Information\n",
            "country : pakistan\n",
            "population : 1.01 million\n",
            "fact : dry fruit\n",
            "Quetta Information\n",
            "country : pakistan\n",
            "population : 1.01 million\n",
            "fact : dry fruit\n"
          ],
          "name": "stdout"
        }
      ]
    },
    {
      "cell_type": "code",
      "metadata": {
        "id": "36CQ8YX7OJN_",
        "colab_type": "code",
        "colab": {
          "base_uri": "https://localhost:8080/",
          "height": 187
        },
        "outputId": "fdf5d692-efee-435c-a95f-37df9f7c0578"
      },
      "source": [
        "for i in range(5):\n",
        "    age = int(input(\"Enter You age : \"))\n",
        "    if age < 3:\n",
        "        print(\"Your ticket is FREE !!\")\n",
        "    elif age < 12:\n",
        "        print(\"Your ticket price is $10\")\n",
        "    else:\n",
        "        print(\"Your ticket price is $15\")"
      ],
      "execution_count": 4,
      "outputs": [
        {
          "output_type": "stream",
          "text": [
            "Enter You age : 21\n",
            "Your ticket price is $15\n",
            "Enter You age : 22\n",
            "Your ticket price is $15\n",
            "Enter You age : 24\n",
            "Your ticket price is $15\n",
            "Enter You age : 60\n",
            "Your ticket price is $15\n",
            "Enter You age : 10\n",
            "Your ticket price is $10\n"
          ],
          "name": "stdout"
        }
      ]
    },
    {
      "cell_type": "code",
      "metadata": {
        "id": "XYa5HoR1OL99",
        "colab_type": "code",
        "colab": {
          "base_uri": "https://localhost:8080/",
          "height": 34
        },
        "outputId": "231fb7d7-7d61-469d-9964-1a35d5ad1a87"
      },
      "source": [
        "def favorite_book(title):\n",
        "    print(f\"One of my favorite book is {title}\")\n",
        "\n",
        "\n",
        "favorite_book(\"The Secret\")"
      ],
      "execution_count": 7,
      "outputs": [
        {
          "output_type": "stream",
          "text": [
            "One of my favorite book is The Secret\n"
          ],
          "name": "stdout"
        }
      ]
    },
    {
      "cell_type": "code",
      "metadata": {
        "id": "6n7WI96-OWhc",
        "colab_type": "code",
        "colab": {
          "base_uri": "https://localhost:8080/",
          "height": 136
        },
        "outputId": "7d106bb1-f45b-4e10-d5e6-8a9db5b36b82"
      },
      "source": [
        "from random import randint\n",
        "number = randint(0, 30)\n",
        "cond = False\n",
        "print(number)\n",
        "def fun(number, chance):\n",
        "    global cond\n",
        "    if number == chance:\n",
        "        print(\"You win !!!\")\n",
        "        cond = True\n",
        "    elif number < chance:\n",
        "        print(\"Hint !! your number is greater than target\")\n",
        "    else:\n",
        "        print(\"Hint !! your number is less than target\")\n",
        "        \n",
        "        \n",
        "\n",
        "for i in range(3):\n",
        "    if cond == True:\n",
        "        break\n",
        "    else:\n",
        "        chance = int(input(f\"Guess The Number - chance {i+1} : \"))\n",
        "        fun(number, chance)"
      ],
      "execution_count": 8,
      "outputs": [
        {
          "output_type": "stream",
          "text": [
            "0\n",
            "Guess The Number - chance 1 : 12\n",
            "Hint !! your number is greater than target\n",
            "Guess The Number - chance 2 : 43\n",
            "Hint !! your number is greater than target\n",
            "Guess The Number - chance 3 : 2\n",
            "Hint !! your number is greater than target\n"
          ],
          "name": "stdout"
        }
      ]
    }
  ]
}