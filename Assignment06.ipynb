{
  "nbformat": 4,
  "nbformat_minor": 0,
  "metadata": {
    "colab": {
      "name": "Assignment06.ipynb",
      "provenance": []
    },
    "kernelspec": {
      "name": "python3",
      "display_name": "Python 3"
    }
  },
  "cells": [
    {
      "cell_type": "markdown",
      "metadata": {
        "id": "rx1s36evNPFi",
        "colab_type": "text"
      },
      "source": [
        "Q1 - Define Object Oriented Programming Language?\n",
        "Object-oriented programming is a paradigm or pattern of programming whereby the solution to a programming problem is modelled > as a collection of collaborating objects. Objects collaborate by sending messages to each other. It is most suitable for managing large, complex problems.\n",
        "\n",
        "Q2 - List down the Benefits of OOP?\n",
        "There are a lot of benifits of OOP, some of them are giving below\n",
        "\n",
        "Re-usability\n",
        "Data Redundancy\n",
        "Code Maintenance\n",
        "Security\n",
        "Design Benefits\n",
        "Better productivity\n",
        "Easy troubleshooting\n",
        "Polymorphism Flexibility\n",
        "Problems solving\n",
        "Q3 - Differentiate between function and method?\n",
        "A function is a piece of code that is called by name. It can be passed data to operate on (i.e. the parameters) and can optionally return data (the return value). All data that is passed to a function is explicitly passed.\n",
        "\n",
        "A method is a piece of code that is called by a name that is associated with an object. In most respects it is identical to a > function except for two key differences:\n",
        "\n",
        "A method is implicitly passed the object on which it was called.\n",
        "A method is able to operate on data that is contained within the class (remembering that an object is an instance of a class - the class is the definition, the object is an instance of that data).\n",
        "Q4 - Define the following terms:\n",
        "1. Class\n",
        "2. Object\n",
        "3. Attribute\n",
        "4. Behavior\n",
        "Class : A class is a user defined blueprint or prototype from which objects are created. It represents the set of > properties or methods that are common to all objects of one type.\n",
        "\n",
        "Object : It is a basic unit of Object Oriented Programming and represents the real life entities. A typical Python program creates many objects, which as you know, interact by invoking methods.\n",
        "\n",
        "Attribute : It is also called State it reflects the properties of an object.\n",
        "\n",
        "Behavior : It is represented by methods of an object. It also reflects the response of an object with other objects\n",
        "\n",
        "\n",
        "\n",
        "\n",
        "\n",
        "\n"
      ]
    },
    {
      "cell_type": "code",
      "metadata": {
        "id": "SxkmyMAnNapx",
        "colab_type": "code",
        "colab": {
          "base_uri": "https://localhost:8080/",
          "height": 357
        },
        "outputId": "b100426f-e032-450d-99c6-98a76bec5c5b"
      },
      "source": [
        "class Car():\n",
        "    name = ''\n",
        "    model = ''\n",
        "    color = ''\n",
        "    manufacturer = ''\n",
        "    maxSpeed = 0.0\n",
        "    \n",
        "    def __init__(self, name, model, color, manufacturer, maxSpeed):\n",
        "        self.name = name\n",
        "        self.model = model\n",
        "        self.color = color\n",
        "        self.manufacturer = manufacturer\n",
        "        self.maxSpeed = maxSpeed\n",
        "    \n",
        "    def display(self):\n",
        "        print(f\"Name : {self.name}\\nModel : {self.model}\\nColor : {self.color}\")\n",
        "        \n",
        "    def getSpeed(self):\n",
        "        return self.maxSpeed\n",
        "\n",
        "car1 = Car('Suzuki', '2018', 'Red', 'Hinopak', 120.0)\n",
        "car2 = Car('Mehran', '2014', 'Blue', 'Master', 143.98)\n",
        "car3 = Car('Cultus', '2018', 'Yellow', 'Hinopak', 299.99)\n",
        "car4 = Car('Suzuki', '2018', 'White', 'Lexsus', 220.89)\n",
        "car5 = Car('Carolla', '2018', 'Black', 'Isoto', 243.87)\n",
        "\n",
        "print(car1.display())\n",
        "print(car2.display())\n",
        "print(car3.display())\n",
        "print(car4.display())\n",
        "print(car5.display())"
      ],
      "execution_count": 1,
      "outputs": [
        {
          "output_type": "stream",
          "text": [
            "Name : Suzuki\n",
            "Model : 2018\n",
            "Color : Red\n",
            "None\n",
            "Name : Mehran\n",
            "Model : 2014\n",
            "Color : Blue\n",
            "None\n",
            "Name : Cultus\n",
            "Model : 2018\n",
            "Color : Yellow\n",
            "None\n",
            "Name : Suzuki\n",
            "Model : 2018\n",
            "Color : White\n",
            "None\n",
            "Name : Carolla\n",
            "Model : 2018\n",
            "Color : Black\n",
            "None\n"
          ],
          "name": "stdout"
        }
      ]
    }
  ]
}