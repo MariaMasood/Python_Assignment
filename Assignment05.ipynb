{
  "nbformat": 4,
  "nbformat_minor": 0,
  "metadata": {
    "colab": {
      "name": "Assignment05.ipynb",
      "provenance": []
    },
    "kernelspec": {
      "name": "python3",
      "display_name": "Python 3"
    }
  },
  "cells": [
    {
      "cell_type": "code",
      "metadata": {
        "id": "8alORbLDKzpP",
        "colab_type": "code",
        "colab": {
          "base_uri": "https://localhost:8080/",
          "height": 34
        },
        "outputId": "10c52742-8067-44e4-a022-cb3e207653a3"
      },
      "source": [
        "\n",
        "def factorial(num):\n",
        "    if num == 1:\n",
        "        return 1\n",
        "    else:\n",
        "        return num * factorial(num - 1)\n",
        "\n",
        "factorial(5)"
      ],
      "execution_count": 2,
      "outputs": [
        {
          "output_type": "execute_result",
          "data": {
            "text/plain": [
              "120"
            ]
          },
          "metadata": {
            "tags": []
          },
          "execution_count": 2
        }
      ]
    },
    {
      "cell_type": "code",
      "metadata": {
        "id": "rDkC3FjXLDYs",
        "colab_type": "code",
        "colab": {
          "base_uri": "https://localhost:8080/",
          "height": 51
        },
        "outputId": "7e367c70-08c3-4f7c-d140-a28807b3fe62"
      },
      "source": [
        "def lengthOfString(string):\n",
        "    dict1 = {\"Upper\" : 0, \"Lower\" : 0}\n",
        "    for char in string:\n",
        "        if char.isupper():\n",
        "            dict1[\"Upper\"] += 1\n",
        "        elif char.islower():\n",
        "            dict1[\"Lower\"] += 1\n",
        "        else:\n",
        "            pass\n",
        "    print(f\"Result : {dict1}\")\n",
        "string = str(input(\"Enter String : \"))\n",
        "lengthOfString(string)"
      ],
      "execution_count": 3,
      "outputs": [
        {
          "output_type": "stream",
          "text": [
            "Enter String : Maria Masood\n",
            "Result : {'Upper': 2, 'Lower': 9}\n"
          ],
          "name": "stdout"
        }
      ]
    },
    {
      "cell_type": "code",
      "metadata": {
        "id": "ZhTDKKsuLGWu",
        "colab_type": "code",
        "colab": {
          "base_uri": "https://localhost:8080/",
          "height": 85
        },
        "outputId": "d760aeca-8eb4-4ee6-a8e0-730b67b157c2"
      },
      "source": [
        "def even(list1):\n",
        "    for i in list1:\n",
        "        if i % 2 == 0:\n",
        "            print(f\"Even : {i}\")\n",
        "list1 = [ 1, 3, 4, 2, 9, 27, 28, 444]\n",
        "even(list1)"
      ],
      "execution_count": 6,
      "outputs": [
        {
          "output_type": "stream",
          "text": [
            "Even : 4\n",
            "Even : 2\n",
            "Even : 28\n",
            "Even : 444\n"
          ],
          "name": "stdout"
        }
      ]
    },
    {
      "cell_type": "code",
      "metadata": {
        "id": "P3MDxXV4LmYc",
        "colab_type": "code",
        "colab": {
          "base_uri": "https://localhost:8080/",
          "height": 34
        },
        "outputId": "388b9a10-b4c0-4882-f4da-a2296f538784"
      },
      "source": [
        "def pallendrom(string2):\n",
        "    string2 = string2.lower()\n",
        "    if string2 == string2[::-1]:\n",
        "        print(f\"{string2} is palindrome\")\n",
        "    else:\n",
        "        print(f\"{string2} is not palindrome\")\n",
        "pallendrom(\"madam\")"
      ],
      "execution_count": 10,
      "outputs": [
        {
          "output_type": "stream",
          "text": [
            "madam is palindrome\n"
          ],
          "name": "stdout"
        }
      ]
    },
    {
      "cell_type": "code",
      "metadata": {
        "id": "XhGFAs8uMc9e",
        "colab_type": "code",
        "colab": {
          "base_uri": "https://localhost:8080/",
          "height": 34
        },
        "outputId": "12b0369a-cd91-4034-c612-0296b72f7fa2"
      },
      "source": [
        "def prime(num):\n",
        "    if num > 1:\n",
        "        for i in range(2, num):\n",
        "            if num % i == 0:\n",
        "                print(f\"{num} is not prime\")\n",
        "                print(f\"{i} times {num/i} is {num} \")\n",
        "                break\n",
        "            else:\n",
        "                print(f\"{num} is prime\")\n",
        "                break\n",
        "    else:\n",
        "        print(f\"{num} culd not be a prime\")\n",
        "prime(11)"
      ],
      "execution_count": 11,
      "outputs": [
        {
          "output_type": "stream",
          "text": [
            "11 is prime\n"
          ],
          "name": "stdout"
        }
      ]
    },
    {
      "cell_type": "code",
      "metadata": {
        "id": "ya6CnBUaL_eS",
        "colab_type": "code",
        "colab": {
          "base_uri": "https://localhost:8080/",
          "height": 34
        },
        "outputId": "c6e7eeab-5ec6-41c9-f54f-d6b8d2c4f896"
      },
      "source": [
        "def items(*opt):\n",
        "    print(opt)\n",
        "\n",
        "items(\"Matchsticks\", \"Tablet\", \"Watch\")"
      ],
      "execution_count": 13,
      "outputs": [
        {
          "output_type": "stream",
          "text": [
            "('Matchsticks', 'Tablet', 'Watch')\n"
          ],
          "name": "stdout"
        }
      ]
    }
  ]
}