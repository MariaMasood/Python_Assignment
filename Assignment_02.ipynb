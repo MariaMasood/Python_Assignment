{
  "nbformat": 4,
  "nbformat_minor": 0,
  "metadata": {
    "colab": {
      "name": "Assignment_02.ipynb",
      "provenance": []
    },
    "kernelspec": {
      "name": "python3",
      "display_name": "Python 3"
    }
  },
  "cells": [
    {
      "cell_type": "code",
      "metadata": {
        "id": "mxd_1mC-Gu14",
        "colab_type": "code",
        "colab": {
          "base_uri": "https://localhost:8080/",
          "height": 119
        },
        "outputId": "bc5abdd2-90ff-4882-8e34-9650e36adf93"
      },
      "source": [
        "a=float(input(\"Enter Marks in English :\\t\"))\n",
        "b=float(input(\"Enter Marks in Maths: \\t\"))\n",
        "c=float(input(\"Enter Marks in Physics: \\t\"))\n",
        "d=float(input(\"Enter Marks in Chemistry: \\t\"))\n",
        "e=float(input(\"Enter Marks in Computer Science: \\t\"))\n",
        "avg=((a+b+c+d+e)/500)*100\n",
        "if(avg>=80):\n",
        "    \n",
        "\tprint(\"Congratulations ! You have secured first Class, and your percentage is \", avg)\n",
        "elif(avg>=60 and avg<80):\n",
        "\tprint(\"Congratulations ! You have secured Seecond Classand your percentage is \", avg )\n",
        "elif (avg>=40 and avg<60):\n",
        "\tprint(\"Congratulations ! You have secured Third Class, and your percentage is \", avg)\n",
        "elif (avg<40):\n",
        "\tprint( \"You are fail\")"
      ],
      "execution_count": 1,
      "outputs": [
        {
          "output_type": "stream",
          "text": [
            "Enter Marks in English :\t56\n",
            "Enter Marks in Maths: \t45\n",
            "Enter Marks in Physics: \t87\n",
            "Enter Marks in Chemistry: \t65\n",
            "Enter Marks in Computer Science: \t34\n",
            "Congratulations ! You have secured Third Class, and your percentage is  57.4\n"
          ],
          "name": "stdout"
        }
      ]
    },
    {
      "cell_type": "code",
      "metadata": {
        "id": "hiy3uUmcIysF",
        "colab_type": "code",
        "colab": {
          "base_uri": "https://localhost:8080/",
          "height": 51
        },
        "outputId": "0e19d292-928a-47be-c5e7-98b841aa2045"
      },
      "source": [
        "number=int(input(\"Enter the number\"))\n",
        "if (number %2 ==0):\n",
        "    print(\"Entered number is even\")\n",
        "else:\n",
        "    print(\"Entered number is odd\")"
      ],
      "execution_count": 2,
      "outputs": [
        {
          "output_type": "stream",
          "text": [
            "Enter the number12\n",
            "Entered number is even\n"
          ],
          "name": "stdout"
        }
      ]
    },
    {
      "cell_type": "code",
      "metadata": {
        "id": "UuhtrE2UJFuD",
        "colab_type": "code",
        "colab": {
          "base_uri": "https://localhost:8080/",
          "height": 34
        },
        "outputId": "eca3c4e7-4823-4574-9090-9454a54e348c"
      },
      "source": [
        "list=len([\"warda\",\"amy\",\"hira\",\"maria\",\"aqsa\"])\n",
        "print(list)"
      ],
      "execution_count": 4,
      "outputs": [
        {
          "output_type": "stream",
          "text": [
            "5\n"
          ],
          "name": "stdout"
        }
      ]
    },
    {
      "cell_type": "code",
      "metadata": {
        "id": "cLDR4oT9JWg3",
        "colab_type": "code",
        "colab": {
          "base_uri": "https://localhost:8080/",
          "height": 34
        },
        "outputId": "57df0bcd-e6ab-4ebc-b941-af1bd25c8971"
      },
      "source": [
        "numeric_list=sum([4,34,5,67,10])\n",
        "print(numeric_list)"
      ],
      "execution_count": 5,
      "outputs": [
        {
          "output_type": "stream",
          "text": [
            "120\n"
          ],
          "name": "stdout"
        }
      ]
    },
    {
      "cell_type": "code",
      "metadata": {
        "id": "nT49okxCJjZM",
        "colab_type": "code",
        "colab": {
          "base_uri": "https://localhost:8080/",
          "height": 34
        },
        "outputId": "3c2c5c17-1870-4662-eb4c-e987324c3f3f"
      },
      "source": [
        "largest_number=max([4,34,5,67,10])\n",
        "print(largest_number)"
      ],
      "execution_count": 7,
      "outputs": [
        {
          "output_type": "stream",
          "text": [
            "67\n"
          ],
          "name": "stdout"
        }
      ]
    },
    {
      "cell_type": "code",
      "metadata": {
        "id": "wfX1wbE4LUf1",
        "colab_type": "code",
        "colab": {
          "base_uri": "https://localhost:8080/",
          "height": 102
        },
        "outputId": "226ab6b4-b71a-46ee-a58f-fdf3e72935cc"
      },
      "source": [
        "list = [1, 1, 2, 3, 5, 8, 13, 21, 34, 55, 89]\n",
        "print(\"Number less than 5 are\")\n",
        "for i in list:\n",
        "    if i<5:\n",
        "        print(i)"
      ],
      "execution_count": 8,
      "outputs": [
        {
          "output_type": "stream",
          "text": [
            "Number less than 5 are\n",
            "1\n",
            "1\n",
            "2\n",
            "3\n"
          ],
          "name": "stdout"
        }
      ]
    }
  ]
}